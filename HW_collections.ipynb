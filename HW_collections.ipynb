{
 "cells": [
  {
   "cell_type": "markdown",
   "metadata": {},
   "source": [
    "### Задание 1 "
   ]
  },
  {
   "cell_type": "markdown",
   "metadata": {},
   "source": [
    "Дан список с визитами по городам и странам. Напишите код, который возвращает отфильтрованный список geo_logs, содержащий только визиты из России. Считайте, что список geo_logs легко помещается в оперативной памяти."
   ]
  },
  {
   "cell_type": "code",
   "execution_count": 2,
   "metadata": {},
   "outputs": [],
   "source": [
    "geo_logs = [\n",
    "[\"visit1\", [\"Москва\", \"Россия\"]],\n",
    "[\"visit2\", [\"Дели\", \"Индия\"]],\n",
    "[\"visit3\", [\"Владимир\", \"Россия\"]],\n",
    "[\"visit4\", [\"Лиссабон\", \"Португалия\"]],\n",
    "[\"visit5\", [\"Париж\", \"Франция\"]],\n",
    "[\"visit6\", [\"Лиссабон\", \"Португалия\"]],\n",
    "[\"visit7\", [\"Тула\", \"Россия\"]],\n",
    "[\"visit8\", [\"Тула\", \"Россия\"]],\n",
    "[\"visit9\", [\"Курск\", \"Россия\"]],\n",
    "[\"visit10\", [\"Архангельск\", \"Россия\"]],\n",
    "]"
   ]
  },
  {
   "cell_type": "code",
   "execution_count": 8,
   "metadata": {},
   "outputs": [
    {
     "data": {
      "text/plain": [
       "[['visit1', ['Москва', 'Россия']],\n",
       " ['visit3', ['Владимир', 'Россия']],\n",
       " ['visit7', ['Тула', 'Россия']],\n",
       " ['visit8', ['Тула', 'Россия']],\n",
       " ['visit9', ['Курск', 'Россия']],\n",
       " ['visit10', ['Архангельск', 'Россия']]]"
      ]
     },
     "execution_count": 8,
     "metadata": {},
     "output_type": "execute_result"
    }
   ],
   "source": [
    "geo_logs_new = []\n",
    "for word in geo_logs:\n",
    "    if word[1][1] == \"Россия\":\n",
    "        geo_logs_new.append(word)\n",
    "geo_logs_new"
   ]
  },
  {
   "cell_type": "markdown",
   "metadata": {},
   "source": [
    "### Задание 2"
   ]
  },
  {
   "cell_type": "markdown",
   "metadata": {},
   "source": [
    "Выведите на экран все уникальные гео-ID из списка координат ids. Т. е. список вида [213, 15, 54, 119, 98, 35]"
   ]
  },
  {
   "cell_type": "code",
   "execution_count": 9,
   "metadata": {},
   "outputs": [],
   "source": [
    "ids = [[\"user1\", [213, 213, 213, 15, 213]], [\"user2\", [54, 54, 119, 119, 119]], [\"user3\", [213, 98, 98, 35]]]"
   ]
  },
  {
   "cell_type": "code",
   "execution_count": 17,
   "metadata": {},
   "outputs": [
    {
     "data": {
      "text/plain": [
       "[98, 35, 15, 213, 54, 119]"
      ]
     },
     "execution_count": 17,
     "metadata": {},
     "output_type": "execute_result"
    }
   ],
   "source": [
    "numbers = []\n",
    "for part in ids:\n",
    "    numbers += part[1]\n",
    "numbers = list(set(numbers))\n",
    "numbers"
   ]
  },
  {
   "cell_type": "markdown",
   "metadata": {},
   "source": [
    "### Задание 3"
   ]
  },
  {
   "cell_type": "markdown",
   "metadata": {},
   "source": [
    "Список поисковых запросов. Получить распределение количества слов в них. Т. е. поисковых запросов из одного слова 5%, из двух - 7%, из трех - 3% итд."
   ]
  },
  {
   "cell_type": "code",
   "execution_count": 18,
   "metadata": {},
   "outputs": [],
   "source": [
    "queries = [\n",
    "\"смотреть сериалы онлайн\",\n",
    "\"новости спорта\",\n",
    "\"афиша кино\",\n",
    "\"курс доллара\",\n",
    "\"сериалы этим летом\",\n",
    "\"курс по питону\",\n",
    "\"сериалы про спорт\",\n",
    "]\n"
   ]
  },
  {
   "cell_type": "code",
   "execution_count": 58,
   "metadata": {},
   "outputs": [
    {
     "name": "stdout",
     "output_type": "stream",
     "text": [
      "Поисковых запросов из 2 слова 42.86%\n",
      "Поисковых запросов из 3 слова 57.14%\n"
     ]
    }
   ],
   "source": [
    "values_q = []\n",
    "queries_new = []\n",
    "queries_dict = {}\n",
    "total_ph = 0\n",
    "\n",
    "for request_phrase in queries:\n",
    "    queries_new.append(request_phrase.split(\" \"))\n",
    "\n",
    "for i in queries_new:\n",
    "    values_q.append(len(i))\n",
    "total_ph = len(values_q)\n",
    "\n",
    "for i in set(values_q):\n",
    "    queries_dict[i] = values_q.count(i)\n",
    "\n",
    "for key,value in queries_dict.items():\n",
    "    print(f'Поисковых запросов из {key} слова {round((value/total_ph) * 100,2)}%')\n",
    "    \n",
    "\n"
   ]
  }
 ],
 "metadata": {
  "kernelspec": {
   "display_name": "Python 3",
   "language": "python",
   "name": "python3"
  },
  "language_info": {
   "codemirror_mode": {
    "name": "ipython",
    "version": 3
   },
   "file_extension": ".py",
   "mimetype": "text/x-python",
   "name": "python",
   "nbconvert_exporter": "python",
   "pygments_lexer": "ipython3",
   "version": "3.7.4"
  }
 },
 "nbformat": 4,
 "nbformat_minor": 2
}
